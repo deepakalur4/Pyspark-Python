{
  "nbformat": 4,
  "nbformat_minor": 0,
  "metadata": {
    "colab": {
      "provenance": []
    },
    "kernelspec": {
      "name": "python3",
      "display_name": "Python 3"
    },
    "language_info": {
      "name": "python"
    }
  },
  "cells": [
    {
      "cell_type": "code",
      "execution_count": null,
      "metadata": {
        "colab": {
          "base_uri": "https://localhost:8080/"
        },
        "id": "9MPsVFBDqS4v",
        "outputId": "c63898e9-8862-4890-e845-e320ab64900f"
      },
      "outputs": [
        {
          "output_type": "stream",
          "name": "stdout",
          "text": [
            "Collecting pyspark\n",
            "  Downloading pyspark-3.5.1.tar.gz (317.0 MB)\n",
            "\u001b[2K     \u001b[90m━━━━━━━━━━━━━━━━━━━━━━━━━━━━━━━━━━━━━━━━\u001b[0m \u001b[32m317.0/317.0 MB\u001b[0m \u001b[31m2.8 MB/s\u001b[0m eta \u001b[36m0:00:00\u001b[0m\n",
            "\u001b[?25h  Preparing metadata (setup.py) ... \u001b[?25l\u001b[?25hdone\n",
            "Requirement already satisfied: py4j==0.10.9.7 in /usr/local/lib/python3.10/dist-packages (from pyspark) (0.10.9.7)\n",
            "Building wheels for collected packages: pyspark\n",
            "  Building wheel for pyspark (setup.py) ... \u001b[?25l\u001b[?25hdone\n",
            "  Created wheel for pyspark: filename=pyspark-3.5.1-py2.py3-none-any.whl size=317488491 sha256=6c1072d7aa343964b80c7182d4604781f0a4427c530ede60f94a8436445a9e1e\n",
            "  Stored in directory: /root/.cache/pip/wheels/80/1d/60/2c256ed38dddce2fdd93be545214a63e02fbd8d74fb0b7f3a6\n",
            "Successfully built pyspark\n",
            "Installing collected packages: pyspark\n",
            "Successfully installed pyspark-3.5.1\n"
          ]
        }
      ],
      "source": [
        "!pip install pyspark"
      ]
    },
    {
      "cell_type": "code",
      "source": [
        "import pyspark\n",
        "from pyspark.sql import SparkSession"
      ],
      "metadata": {
        "id": "bgL_xeRxqwuw"
      },
      "execution_count": null,
      "outputs": []
    },
    {
      "cell_type": "code",
      "source": [
        "pyspark.__version__"
      ],
      "metadata": {
        "colab": {
          "base_uri": "https://localhost:8080/",
          "height": 36
        },
        "id": "oaZZHqGcrKEk",
        "outputId": "85c2496c-f6a8-4e0a-ba27-4cfc3380c3c2"
      },
      "execution_count": null,
      "outputs": [
        {
          "output_type": "execute_result",
          "data": {
            "text/plain": [
              "'3.5.1'"
            ],
            "application/vnd.google.colaboratory.intrinsic+json": {
              "type": "string"
            }
          },
          "metadata": {},
          "execution_count": 17
        }
      ]
    },
    {
      "cell_type": "code",
      "source": [
        "session=SparkSession.builder.appName(\"deepak\").getOrCreate()"
      ],
      "metadata": {
        "id": "5AjgAiDgrql1"
      },
      "execution_count": null,
      "outputs": []
    },
    {
      "cell_type": "code",
      "source": [
        "spark_df=session.read.csv(\"Churn_Modelling.csv\",header=True,inferSchema=True)"
      ],
      "metadata": {
        "id": "BW6xKvdzsNq4"
      },
      "execution_count": null,
      "outputs": []
    },
    {
      "cell_type": "code",
      "source": [
        "spark_df.show(5)"
      ],
      "metadata": {
        "colab": {
          "base_uri": "https://localhost:8080/"
        },
        "id": "ZahRTOe_sXvb",
        "outputId": "e412d785-c95b-446a-b1b4-8db84e3c0b31"
      },
      "execution_count": null,
      "outputs": [
        {
          "output_type": "stream",
          "name": "stdout",
          "text": [
            "+---------+----------+--------+-----------+---------+------+---+------+---------+-------------+---------+--------------+---------------+------+\n",
            "|RowNumber|CustomerId| Surname|CreditScore|Geography|Gender|Age|Tenure|  Balance|NumOfProducts|HasCrCard|IsActiveMember|EstimatedSalary|Exited|\n",
            "+---------+----------+--------+-----------+---------+------+---+------+---------+-------------+---------+--------------+---------------+------+\n",
            "|        1|  15634602|Hargrave|        619|   France|Female| 42|     2|      0.0|            1|        1|             1|      101348.88|     1|\n",
            "|        2|  15647311|    Hill|        608|    Spain|Female| 41|     1| 83807.86|            1|        0|             1|      112542.58|     0|\n",
            "|        3|  15619304|    Onio|        502|   France|Female| 42|     8| 159660.8|            3|        1|             0|      113931.57|     1|\n",
            "|        4|  15701354|    Boni|        699|   France|Female| 39|     1|      0.0|            2|        0|             0|       93826.63|     0|\n",
            "|        5|  15737888|Mitchell|        850|    Spain|Female| 43|     2|125510.82|            1|        1|             1|        79084.1|     0|\n",
            "+---------+----------+--------+-----------+---------+------+---+------+---------+-------------+---------+--------------+---------------+------+\n",
            "only showing top 5 rows\n",
            "\n"
          ]
        }
      ]
    },
    {
      "cell_type": "code",
      "source": [
        "session"
      ],
      "metadata": {
        "colab": {
          "base_uri": "https://localhost:8080/",
          "height": 219
        },
        "id": "fWN7VJF3sdSK",
        "outputId": "ffedb727-d290-41e7-82ba-595861cbc41a"
      },
      "execution_count": null,
      "outputs": [
        {
          "output_type": "execute_result",
          "data": {
            "text/plain": [
              "<pyspark.sql.session.SparkSession at 0x79febce857e0>"
            ],
            "text/html": [
              "\n",
              "            <div>\n",
              "                <p><b>SparkSession - in-memory</b></p>\n",
              "                \n",
              "        <div>\n",
              "            <p><b>SparkContext</b></p>\n",
              "\n",
              "            <p><a href=\"http://15a8bc794911:4040\">Spark UI</a></p>\n",
              "\n",
              "            <dl>\n",
              "              <dt>Version</dt>\n",
              "                <dd><code>v3.5.1</code></dd>\n",
              "              <dt>Master</dt>\n",
              "                <dd><code>local[*]</code></dd>\n",
              "              <dt>AppName</dt>\n",
              "                <dd><code>Deepak</code></dd>\n",
              "            </dl>\n",
              "        </div>\n",
              "        \n",
              "            </div>\n",
              "        "
            ]
          },
          "metadata": {},
          "execution_count": 30
        }
      ]
    },
    {
      "cell_type": "code",
      "source": [
        "spark_df.printSchema()"
      ],
      "metadata": {
        "colab": {
          "base_uri": "https://localhost:8080/"
        },
        "id": "7t7jVAdmsj0r",
        "outputId": "534c1318-6464-4f07-b444-b224076a6b38"
      },
      "execution_count": null,
      "outputs": [
        {
          "output_type": "stream",
          "name": "stdout",
          "text": [
            "root\n",
            " |-- RowNumber: integer (nullable = true)\n",
            " |-- CustomerId: integer (nullable = true)\n",
            " |-- Surname: string (nullable = true)\n",
            " |-- CreditScore: integer (nullable = true)\n",
            " |-- Geography: string (nullable = true)\n",
            " |-- Gender: string (nullable = true)\n",
            " |-- Age: integer (nullable = true)\n",
            " |-- Tenure: integer (nullable = true)\n",
            " |-- Balance: double (nullable = true)\n",
            " |-- NumOfProducts: integer (nullable = true)\n",
            " |-- HasCrCard: integer (nullable = true)\n",
            " |-- IsActiveMember: integer (nullable = true)\n",
            " |-- EstimatedSalary: double (nullable = true)\n",
            " |-- Exited: integer (nullable = true)\n",
            "\n"
          ]
        }
      ]
    },
    {
      "cell_type": "code",
      "source": [
        "spark_df.select([\"RowNumber\",\"CustomerId\"]).show()"
      ],
      "metadata": {
        "colab": {
          "base_uri": "https://localhost:8080/"
        },
        "id": "YREFxFYssuHN",
        "outputId": "d0c66647-c306-4e2a-8656-dc544b6b8f1c"
      },
      "execution_count": null,
      "outputs": [
        {
          "output_type": "stream",
          "name": "stdout",
          "text": [
            "+---------+----------+\n",
            "|RowNumber|CustomerId|\n",
            "+---------+----------+\n",
            "|        1|  15634602|\n",
            "|        2|  15647311|\n",
            "|        3|  15619304|\n",
            "|        4|  15701354|\n",
            "|        5|  15737888|\n",
            "|        6|  15574012|\n",
            "|        7|  15592531|\n",
            "|        8|  15656148|\n",
            "|        9|  15792365|\n",
            "|       10|  15592389|\n",
            "|       11|  15767821|\n",
            "|       12|  15737173|\n",
            "|       13|  15632264|\n",
            "|       14|  15691483|\n",
            "|       15|  15600882|\n",
            "|       16|  15643966|\n",
            "|       17|  15737452|\n",
            "|       18|  15788218|\n",
            "|       19|  15661507|\n",
            "|       20|  15568982|\n",
            "+---------+----------+\n",
            "only showing top 20 rows\n",
            "\n"
          ]
        }
      ]
    },
    {
      "cell_type": "code",
      "source": [
        "spark_df.drop(\"RowNumber\").show()"
      ],
      "metadata": {
        "colab": {
          "base_uri": "https://localhost:8080/"
        },
        "id": "RffvNiBZs0fa",
        "outputId": "d1aadc97-f320-4d8d-9ea8-1b571c62b66d"
      },
      "execution_count": null,
      "outputs": [
        {
          "output_type": "stream",
          "name": "stdout",
          "text": [
            "+----------+---------+-----------+---------+------+---+------+---------+-------------+---------+--------------+---------------+------+\n",
            "|CustomerId|  Surname|CreditScore|Geography|Gender|Age|Tenure|  Balance|NumOfProducts|HasCrCard|IsActiveMember|EstimatedSalary|Exited|\n",
            "+----------+---------+-----------+---------+------+---+------+---------+-------------+---------+--------------+---------------+------+\n",
            "|  15634602| Hargrave|        619|   France|Female| 42|     2|      0.0|            1|        1|             1|      101348.88|     1|\n",
            "|  15647311|     Hill|        608|    Spain|Female| 41|     1| 83807.86|            1|        0|             1|      112542.58|     0|\n",
            "|  15619304|     Onio|        502|   France|Female| 42|     8| 159660.8|            3|        1|             0|      113931.57|     1|\n",
            "|  15701354|     Boni|        699|   France|Female| 39|     1|      0.0|            2|        0|             0|       93826.63|     0|\n",
            "|  15737888| Mitchell|        850|    Spain|Female| 43|     2|125510.82|            1|        1|             1|        79084.1|     0|\n",
            "|  15574012|      Chu|        645|    Spain|  Male| 44|     8|113755.78|            2|        1|             0|      149756.71|     1|\n",
            "|  15592531| Bartlett|        822|   France|  Male| 50|     7|      0.0|            2|        1|             1|        10062.8|     0|\n",
            "|  15656148|   Obinna|        376|  Germany|Female| 29|     4|115046.74|            4|        1|             0|      119346.88|     1|\n",
            "|  15792365|       He|        501|   France|  Male| 44|     4|142051.07|            2|        0|             1|        74940.5|     0|\n",
            "|  15592389|       H?|        684|   France|  Male| 27|     2|134603.88|            1|        1|             1|       71725.73|     0|\n",
            "|  15767821|   Bearce|        528|   France|  Male| 31|     6|102016.72|            2|        0|             0|       80181.12|     0|\n",
            "|  15737173|  Andrews|        497|    Spain|  Male| 24|     3|      0.0|            2|        1|             0|       76390.01|     0|\n",
            "|  15632264|      Kay|        476|   France|Female| 34|    10|      0.0|            2|        1|             0|       26260.98|     0|\n",
            "|  15691483|     Chin|        549|   France|Female| 25|     5|      0.0|            2|        0|             0|      190857.79|     0|\n",
            "|  15600882|    Scott|        635|    Spain|Female| 35|     7|      0.0|            2|        1|             1|       65951.65|     0|\n",
            "|  15643966|  Goforth|        616|  Germany|  Male| 45|     3|143129.41|            2|        0|             1|       64327.26|     0|\n",
            "|  15737452|    Romeo|        653|  Germany|  Male| 58|     1|132602.88|            1|        1|             0|        5097.67|     1|\n",
            "|  15788218|Henderson|        549|    Spain|Female| 24|     9|      0.0|            2|        1|             1|       14406.41|     0|\n",
            "|  15661507|  Muldrow|        587|    Spain|  Male| 45|     6|      0.0|            1|        0|             0|      158684.81|     0|\n",
            "|  15568982|      Hao|        726|   France|Female| 24|     6|      0.0|            2|        1|             1|       54724.03|     0|\n",
            "+----------+---------+-----------+---------+------+---+------+---------+-------------+---------+--------------+---------------+------+\n",
            "only showing top 20 rows\n",
            "\n"
          ]
        }
      ]
    },
    {
      "cell_type": "code",
      "source": [
        "spark_df.withColumn(\"New_column\",spark_df[\"CreditScore\"]*100).show()"
      ],
      "metadata": {
        "colab": {
          "base_uri": "https://localhost:8080/"
        },
        "id": "hws98kX-tAJQ",
        "outputId": "bdbc8486-84ac-4ac1-9e73-d3d5966c4017"
      },
      "execution_count": null,
      "outputs": [
        {
          "output_type": "stream",
          "name": "stdout",
          "text": [
            "+---------+----------+---------+-----------+---------+------+---+------+---------+-------------+---------+--------------+---------------+------+----------+\n",
            "|RowNumber|CustomerId|  Surname|CreditScore|Geography|Gender|Age|Tenure|  Balance|NumOfProducts|HasCrCard|IsActiveMember|EstimatedSalary|Exited|New_column|\n",
            "+---------+----------+---------+-----------+---------+------+---+------+---------+-------------+---------+--------------+---------------+------+----------+\n",
            "|        1|  15634602| Hargrave|        619|   France|Female| 42|     2|      0.0|            1|        1|             1|      101348.88|     1|     61900|\n",
            "|        2|  15647311|     Hill|        608|    Spain|Female| 41|     1| 83807.86|            1|        0|             1|      112542.58|     0|     60800|\n",
            "|        3|  15619304|     Onio|        502|   France|Female| 42|     8| 159660.8|            3|        1|             0|      113931.57|     1|     50200|\n",
            "|        4|  15701354|     Boni|        699|   France|Female| 39|     1|      0.0|            2|        0|             0|       93826.63|     0|     69900|\n",
            "|        5|  15737888| Mitchell|        850|    Spain|Female| 43|     2|125510.82|            1|        1|             1|        79084.1|     0|     85000|\n",
            "|        6|  15574012|      Chu|        645|    Spain|  Male| 44|     8|113755.78|            2|        1|             0|      149756.71|     1|     64500|\n",
            "|        7|  15592531| Bartlett|        822|   France|  Male| 50|     7|      0.0|            2|        1|             1|        10062.8|     0|     82200|\n",
            "|        8|  15656148|   Obinna|        376|  Germany|Female| 29|     4|115046.74|            4|        1|             0|      119346.88|     1|     37600|\n",
            "|        9|  15792365|       He|        501|   France|  Male| 44|     4|142051.07|            2|        0|             1|        74940.5|     0|     50100|\n",
            "|       10|  15592389|       H?|        684|   France|  Male| 27|     2|134603.88|            1|        1|             1|       71725.73|     0|     68400|\n",
            "|       11|  15767821|   Bearce|        528|   France|  Male| 31|     6|102016.72|            2|        0|             0|       80181.12|     0|     52800|\n",
            "|       12|  15737173|  Andrews|        497|    Spain|  Male| 24|     3|      0.0|            2|        1|             0|       76390.01|     0|     49700|\n",
            "|       13|  15632264|      Kay|        476|   France|Female| 34|    10|      0.0|            2|        1|             0|       26260.98|     0|     47600|\n",
            "|       14|  15691483|     Chin|        549|   France|Female| 25|     5|      0.0|            2|        0|             0|      190857.79|     0|     54900|\n",
            "|       15|  15600882|    Scott|        635|    Spain|Female| 35|     7|      0.0|            2|        1|             1|       65951.65|     0|     63500|\n",
            "|       16|  15643966|  Goforth|        616|  Germany|  Male| 45|     3|143129.41|            2|        0|             1|       64327.26|     0|     61600|\n",
            "|       17|  15737452|    Romeo|        653|  Germany|  Male| 58|     1|132602.88|            1|        1|             0|        5097.67|     1|     65300|\n",
            "|       18|  15788218|Henderson|        549|    Spain|Female| 24|     9|      0.0|            2|        1|             1|       14406.41|     0|     54900|\n",
            "|       19|  15661507|  Muldrow|        587|    Spain|  Male| 45|     6|      0.0|            1|        0|             0|      158684.81|     0|     58700|\n",
            "|       20|  15568982|      Hao|        726|   France|Female| 24|     6|      0.0|            2|        1|             1|       54724.03|     0|     72600|\n",
            "+---------+----------+---------+-----------+---------+------+---+------+---------+-------------+---------+--------------+---------------+------+----------+\n",
            "only showing top 20 rows\n",
            "\n"
          ]
        }
      ]
    },
    {
      "cell_type": "code",
      "source": [
        "spark_df.withColumnRenamed(\"Geography\",\"country\").show()"
      ],
      "metadata": {
        "colab": {
          "base_uri": "https://localhost:8080/"
        },
        "id": "w-fva4YHtMf9",
        "outputId": "2f1a755e-51da-4970-8191-41e83625b4c5"
      },
      "execution_count": null,
      "outputs": [
        {
          "output_type": "stream",
          "name": "stdout",
          "text": [
            "+---------+----------+---------+-----------+-------+------+---+------+---------+-------------+---------+--------------+---------------+------+\n",
            "|RowNumber|CustomerId|  Surname|CreditScore|country|Gender|Age|Tenure|  Balance|NumOfProducts|HasCrCard|IsActiveMember|EstimatedSalary|Exited|\n",
            "+---------+----------+---------+-----------+-------+------+---+------+---------+-------------+---------+--------------+---------------+------+\n",
            "|        1|  15634602| Hargrave|        619| France|Female| 42|     2|      0.0|            1|        1|             1|      101348.88|     1|\n",
            "|        2|  15647311|     Hill|        608|  Spain|Female| 41|     1| 83807.86|            1|        0|             1|      112542.58|     0|\n",
            "|        3|  15619304|     Onio|        502| France|Female| 42|     8| 159660.8|            3|        1|             0|      113931.57|     1|\n",
            "|        4|  15701354|     Boni|        699| France|Female| 39|     1|      0.0|            2|        0|             0|       93826.63|     0|\n",
            "|        5|  15737888| Mitchell|        850|  Spain|Female| 43|     2|125510.82|            1|        1|             1|        79084.1|     0|\n",
            "|        6|  15574012|      Chu|        645|  Spain|  Male| 44|     8|113755.78|            2|        1|             0|      149756.71|     1|\n",
            "|        7|  15592531| Bartlett|        822| France|  Male| 50|     7|      0.0|            2|        1|             1|        10062.8|     0|\n",
            "|        8|  15656148|   Obinna|        376|Germany|Female| 29|     4|115046.74|            4|        1|             0|      119346.88|     1|\n",
            "|        9|  15792365|       He|        501| France|  Male| 44|     4|142051.07|            2|        0|             1|        74940.5|     0|\n",
            "|       10|  15592389|       H?|        684| France|  Male| 27|     2|134603.88|            1|        1|             1|       71725.73|     0|\n",
            "|       11|  15767821|   Bearce|        528| France|  Male| 31|     6|102016.72|            2|        0|             0|       80181.12|     0|\n",
            "|       12|  15737173|  Andrews|        497|  Spain|  Male| 24|     3|      0.0|            2|        1|             0|       76390.01|     0|\n",
            "|       13|  15632264|      Kay|        476| France|Female| 34|    10|      0.0|            2|        1|             0|       26260.98|     0|\n",
            "|       14|  15691483|     Chin|        549| France|Female| 25|     5|      0.0|            2|        0|             0|      190857.79|     0|\n",
            "|       15|  15600882|    Scott|        635|  Spain|Female| 35|     7|      0.0|            2|        1|             1|       65951.65|     0|\n",
            "|       16|  15643966|  Goforth|        616|Germany|  Male| 45|     3|143129.41|            2|        0|             1|       64327.26|     0|\n",
            "|       17|  15737452|    Romeo|        653|Germany|  Male| 58|     1|132602.88|            1|        1|             0|        5097.67|     1|\n",
            "|       18|  15788218|Henderson|        549|  Spain|Female| 24|     9|      0.0|            2|        1|             1|       14406.41|     0|\n",
            "|       19|  15661507|  Muldrow|        587|  Spain|  Male| 45|     6|      0.0|            1|        0|             0|      158684.81|     0|\n",
            "|       20|  15568982|      Hao|        726| France|Female| 24|     6|      0.0|            2|        1|             1|       54724.03|     0|\n",
            "+---------+----------+---------+-----------+-------+------+---+------+---------+-------------+---------+--------------+---------------+------+\n",
            "only showing top 20 rows\n",
            "\n"
          ]
        }
      ]
    },
    {
      "cell_type": "code",
      "source": [
        "spark_df.filter(spark_df[\"CreditScore\"]>450).show()"
      ],
      "metadata": {
        "colab": {
          "base_uri": "https://localhost:8080/"
        },
        "id": "E9mRlxaZtUOV",
        "outputId": "62ef6acc-c025-4db5-e838-324f7a5abedb"
      },
      "execution_count": null,
      "outputs": [
        {
          "output_type": "stream",
          "name": "stdout",
          "text": [
            "+---------+----------+---------+-----------+---------+------+---+------+---------+-------------+---------+--------------+---------------+------+\n",
            "|RowNumber|CustomerId|  Surname|CreditScore|Geography|Gender|Age|Tenure|  Balance|NumOfProducts|HasCrCard|IsActiveMember|EstimatedSalary|Exited|\n",
            "+---------+----------+---------+-----------+---------+------+---+------+---------+-------------+---------+--------------+---------------+------+\n",
            "|        1|  15634602| Hargrave|        619|   France|Female| 42|     2|      0.0|            1|        1|             1|      101348.88|     1|\n",
            "|        2|  15647311|     Hill|        608|    Spain|Female| 41|     1| 83807.86|            1|        0|             1|      112542.58|     0|\n",
            "|        3|  15619304|     Onio|        502|   France|Female| 42|     8| 159660.8|            3|        1|             0|      113931.57|     1|\n",
            "|        4|  15701354|     Boni|        699|   France|Female| 39|     1|      0.0|            2|        0|             0|       93826.63|     0|\n",
            "|        5|  15737888| Mitchell|        850|    Spain|Female| 43|     2|125510.82|            1|        1|             1|        79084.1|     0|\n",
            "|        6|  15574012|      Chu|        645|    Spain|  Male| 44|     8|113755.78|            2|        1|             0|      149756.71|     1|\n",
            "|        7|  15592531| Bartlett|        822|   France|  Male| 50|     7|      0.0|            2|        1|             1|        10062.8|     0|\n",
            "|        9|  15792365|       He|        501|   France|  Male| 44|     4|142051.07|            2|        0|             1|        74940.5|     0|\n",
            "|       10|  15592389|       H?|        684|   France|  Male| 27|     2|134603.88|            1|        1|             1|       71725.73|     0|\n",
            "|       11|  15767821|   Bearce|        528|   France|  Male| 31|     6|102016.72|            2|        0|             0|       80181.12|     0|\n",
            "|       12|  15737173|  Andrews|        497|    Spain|  Male| 24|     3|      0.0|            2|        1|             0|       76390.01|     0|\n",
            "|       13|  15632264|      Kay|        476|   France|Female| 34|    10|      0.0|            2|        1|             0|       26260.98|     0|\n",
            "|       14|  15691483|     Chin|        549|   France|Female| 25|     5|      0.0|            2|        0|             0|      190857.79|     0|\n",
            "|       15|  15600882|    Scott|        635|    Spain|Female| 35|     7|      0.0|            2|        1|             1|       65951.65|     0|\n",
            "|       16|  15643966|  Goforth|        616|  Germany|  Male| 45|     3|143129.41|            2|        0|             1|       64327.26|     0|\n",
            "|       17|  15737452|    Romeo|        653|  Germany|  Male| 58|     1|132602.88|            1|        1|             0|        5097.67|     1|\n",
            "|       18|  15788218|Henderson|        549|    Spain|Female| 24|     9|      0.0|            2|        1|             1|       14406.41|     0|\n",
            "|       19|  15661507|  Muldrow|        587|    Spain|  Male| 45|     6|      0.0|            1|        0|             0|      158684.81|     0|\n",
            "|       20|  15568982|      Hao|        726|   France|Female| 24|     6|      0.0|            2|        1|             1|       54724.03|     0|\n",
            "|       21|  15577657| McDonald|        732|   France|  Male| 41|     8|      0.0|            2|        1|             1|      170886.17|     0|\n",
            "+---------+----------+---------+-----------+---------+------+---+------+---------+-------------+---------+--------------+---------------+------+\n",
            "only showing top 20 rows\n",
            "\n"
          ]
        }
      ]
    },
    {
      "cell_type": "code",
      "source": [
        "spark_df.groupby(\"Geography\").sum().show()"
      ],
      "metadata": {
        "colab": {
          "base_uri": "https://localhost:8080/"
        },
        "id": "JVu8HB6fto6h",
        "outputId": "d0815072-ecdd-4854-b3e3-6f0f34c02748"
      },
      "execution_count": null,
      "outputs": [
        {
          "output_type": "stream",
          "name": "stdout",
          "text": [
            "+---------+--------------+---------------+----------------+--------+-----------+--------------------+------------------+--------------+-------------------+--------------------+-----------+\n",
            "|Geography|sum(RowNumber)|sum(CustomerId)|sum(CreditScore)|sum(Age)|sum(Tenure)|        sum(Balance)|sum(NumOfProducts)|sum(HasCrCard)|sum(IsActiveMember)|sum(EstimatedSalary)|sum(Exited)|\n",
            "+---------+--------------+---------------+----------------+--------+-----------+--------------------+------------------+--------------+-------------------+--------------------+-----------+\n",
            "|  Germany|      12545700|    39367604133|         1634497|   99787|      12570| 3.004028613799998E8|              3813|          1791|               1248| 2.536936086700002E8|        814|\n",
            "|   France|      25196496|    78672919670|         3257437|  193098|      25093|3.1133247949000007E8|              7676|          3543|               2591| 5.008944926000007E8|        810|\n",
            "|    Spain|      12262804|    38868881891|         1613354|   96333|      12465|      1.5312355201E8|              3813|          1721|               1312|2.4631429753999978E8|        413|\n",
            "+---------+--------------+---------------+----------------+--------+-----------+--------------------+------------------+--------------+-------------------+--------------------+-----------+\n",
            "\n"
          ]
        }
      ]
    },
    {
      "cell_type": "code",
      "source": [
        "import seaborn as sns\n"
      ],
      "metadata": {
        "id": "M6hNhOuKty69"
      },
      "execution_count": null,
      "outputs": []
    },
    {
      "cell_type": "code",
      "source": [
        "df=sns.load_dataset(\"tips\")"
      ],
      "metadata": {
        "id": "aj_OrvfR0QYA"
      },
      "execution_count": null,
      "outputs": []
    },
    {
      "cell_type": "code",
      "source": [
        "data=df.to_csv(\"tips.csv\")"
      ],
      "metadata": {
        "id": "jAFryniC0UZN"
      },
      "execution_count": null,
      "outputs": []
    },
    {
      "cell_type": "code",
      "source": [
        "session=SparkSession.builder.appName(\"Deepu\").getOrCreate()"
      ],
      "metadata": {
        "id": "70lO8x-e0eMG"
      },
      "execution_count": null,
      "outputs": []
    },
    {
      "cell_type": "code",
      "source": [
        "spark_df=session.read.csv(\"tips.csv\",inferSchema=True,header=True)"
      ],
      "metadata": {
        "id": "FURhSwda0rsm"
      },
      "execution_count": null,
      "outputs": []
    },
    {
      "cell_type": "code",
      "source": [
        "spark_df.show(5)"
      ],
      "metadata": {
        "colab": {
          "base_uri": "https://localhost:8080/"
        },
        "id": "pNYvWw1m0zI_",
        "outputId": "f5e986aa-6ac0-4fe4-bda0-8d0e0579d822"
      },
      "execution_count": null,
      "outputs": [
        {
          "output_type": "stream",
          "name": "stdout",
          "text": [
            "+---+----------+----+------+------+---+------+----+\n",
            "|_c0|total_bill| tip|   sex|smoker|day|  time|size|\n",
            "+---+----------+----+------+------+---+------+----+\n",
            "|  0|     16.99|1.01|Female|    No|Sun|Dinner|   2|\n",
            "|  1|     10.34|1.66|  Male|    No|Sun|Dinner|   3|\n",
            "|  2|     21.01| 3.5|  Male|    No|Sun|Dinner|   3|\n",
            "|  3|     23.68|3.31|  Male|    No|Sun|Dinner|   2|\n",
            "|  4|     24.59|3.61|Female|    No|Sun|Dinner|   4|\n",
            "+---+----------+----+------+------+---+------+----+\n",
            "only showing top 5 rows\n",
            "\n"
          ]
        }
      ]
    },
    {
      "cell_type": "code",
      "source": [
        "from pyspark.ml.feature import StringIndexer"
      ],
      "metadata": {
        "id": "icFhtilr00dK"
      },
      "execution_count": null,
      "outputs": []
    },
    {
      "cell_type": "code",
      "source": [
        "indexer=StringIndexer(inputCols=[\"sex\",\"day\",\"time\"],outputCols=[\"indexed_sex\",\"indexed_day\",\"indexed_time\"])"
      ],
      "metadata": {
        "id": "19xdmJvK054y"
      },
      "execution_count": null,
      "outputs": []
    },
    {
      "cell_type": "code",
      "source": [
        "data=indexer.fit(spark_df).transform(spark_df)"
      ],
      "metadata": {
        "id": "KQNURzdR1H5U"
      },
      "execution_count": null,
      "outputs": []
    },
    {
      "cell_type": "code",
      "source": [
        "data.show(5)"
      ],
      "metadata": {
        "colab": {
          "base_uri": "https://localhost:8080/"
        },
        "id": "gfvNjF6y1TxB",
        "outputId": "64c8baff-e868-47c6-b0bb-ddbe0f02809a"
      },
      "execution_count": null,
      "outputs": [
        {
          "output_type": "stream",
          "name": "stdout",
          "text": [
            "+---+----------+----+------+------+---+------+----+-----------+-----------+------------+\n",
            "|_c0|total_bill| tip|   sex|smoker|day|  time|size|indexed_sex|indexed_day|indexed_time|\n",
            "+---+----------+----+------+------+---+------+----+-----------+-----------+------------+\n",
            "|  0|     16.99|1.01|Female|    No|Sun|Dinner|   2|        1.0|        1.0|         0.0|\n",
            "|  1|     10.34|1.66|  Male|    No|Sun|Dinner|   3|        0.0|        1.0|         0.0|\n",
            "|  2|     21.01| 3.5|  Male|    No|Sun|Dinner|   3|        0.0|        1.0|         0.0|\n",
            "|  3|     23.68|3.31|  Male|    No|Sun|Dinner|   2|        0.0|        1.0|         0.0|\n",
            "|  4|     24.59|3.61|Female|    No|Sun|Dinner|   4|        1.0|        1.0|         0.0|\n",
            "+---+----------+----+------+------+---+------+----+-----------+-----------+------------+\n",
            "only showing top 5 rows\n",
            "\n"
          ]
        }
      ]
    },
    {
      "cell_type": "code",
      "source": [
        "from pyspark.ml.feature import VectorAssembler"
      ],
      "metadata": {
        "id": "56bHoAo-1VQm"
      },
      "execution_count": null,
      "outputs": []
    },
    {
      "cell_type": "code",
      "source": [
        "type(data)"
      ],
      "metadata": {
        "colab": {
          "base_uri": "https://localhost:8080/",
          "height": 187
        },
        "id": "qgA_gCEw1nRd",
        "outputId": "b84605f2-e273-4017-8a5e-868b3d48e85f"
      },
      "execution_count": null,
      "outputs": [
        {
          "output_type": "execute_result",
          "data": {
            "text/plain": [
              "pyspark.sql.dataframe.DataFrame"
            ],
            "text/html": [
              "<div style=\"max-width:800px; border: 1px solid var(--colab-border-color);\"><style>\n",
              "      pre.function-repr-contents {\n",
              "        overflow-x: auto;\n",
              "        padding: 8px 12px;\n",
              "        max-height: 500px;\n",
              "      }\n",
              "\n",
              "      pre.function-repr-contents.function-repr-contents-collapsed {\n",
              "        cursor: pointer;\n",
              "        max-height: 100px;\n",
              "      }\n",
              "    </style>\n",
              "    <pre style=\"white-space: initial; background:\n",
              "         var(--colab-secondary-surface-color); padding: 8px 12px;\n",
              "         border-bottom: 1px solid var(--colab-border-color);\"><b>pyspark.sql.dataframe.DataFrame</b><br/>def __init__(jdf: JavaObject, sql_ctx: Union[&#x27;SQLContext&#x27;, &#x27;SparkSession&#x27;])</pre><pre class=\"function-repr-contents function-repr-contents-collapsed\" style=\"\"><a class=\"filepath\" style=\"display:none\" href=\"#\">/usr/local/lib/python3.10/dist-packages/pyspark/sql/dataframe.py</a>A distributed collection of data grouped into named columns.\n",
              "\n",
              ".. versionadded:: 1.3.0\n",
              "\n",
              ".. versionchanged:: 3.4.0\n",
              "    Supports Spark Connect.\n",
              "\n",
              "Examples\n",
              "--------\n",
              "A :class:`DataFrame` is equivalent to a relational table in Spark SQL,\n",
              "and can be created using various functions in :class:`SparkSession`:\n",
              "\n",
              "&gt;&gt;&gt; people = spark.createDataFrame([\n",
              "...     {&quot;deptId&quot;: 1, &quot;age&quot;: 40, &quot;name&quot;: &quot;Hyukjin Kwon&quot;, &quot;gender&quot;: &quot;M&quot;, &quot;salary&quot;: 50},\n",
              "...     {&quot;deptId&quot;: 1, &quot;age&quot;: 50, &quot;name&quot;: &quot;Takuya Ueshin&quot;, &quot;gender&quot;: &quot;M&quot;, &quot;salary&quot;: 100},\n",
              "...     {&quot;deptId&quot;: 2, &quot;age&quot;: 60, &quot;name&quot;: &quot;Xinrong Meng&quot;, &quot;gender&quot;: &quot;F&quot;, &quot;salary&quot;: 150},\n",
              "...     {&quot;deptId&quot;: 3, &quot;age&quot;: 20, &quot;name&quot;: &quot;Haejoon Lee&quot;, &quot;gender&quot;: &quot;M&quot;, &quot;salary&quot;: 200}\n",
              "... ])\n",
              "\n",
              "Once created, it can be manipulated using the various domain-specific-language\n",
              "(DSL) functions defined in: :class:`DataFrame`, :class:`Column`.\n",
              "\n",
              "To select a column from the :class:`DataFrame`, use the apply method:\n",
              "\n",
              "&gt;&gt;&gt; age_col = people.age\n",
              "\n",
              "A more concrete example:\n",
              "\n",
              "&gt;&gt;&gt; # To create DataFrame using SparkSession\n",
              "... department = spark.createDataFrame([\n",
              "...     {&quot;id&quot;: 1, &quot;name&quot;: &quot;PySpark&quot;},\n",
              "...     {&quot;id&quot;: 2, &quot;name&quot;: &quot;ML&quot;},\n",
              "...     {&quot;id&quot;: 3, &quot;name&quot;: &quot;Spark SQL&quot;}\n",
              "... ])\n",
              "\n",
              "&gt;&gt;&gt; people.filter(people.age &gt; 30).join(\n",
              "...     department, people.deptId == department.id).groupBy(\n",
              "...     department.name, &quot;gender&quot;).agg({&quot;salary&quot;: &quot;avg&quot;, &quot;age&quot;: &quot;max&quot;}).show()\n",
              "+-------+------+-----------+--------+\n",
              "|   name|gender|avg(salary)|max(age)|\n",
              "+-------+------+-----------+--------+\n",
              "|     ML|     F|      150.0|      60|\n",
              "|PySpark|     M|       75.0|      50|\n",
              "+-------+------+-----------+--------+\n",
              "\n",
              "Notes\n",
              "-----\n",
              "A DataFrame should only be created as described above. It should not be directly\n",
              "created via using the constructor.</pre>\n",
              "      <script>\n",
              "      if (google.colab.kernel.accessAllowed && google.colab.files && google.colab.files.view) {\n",
              "        for (const element of document.querySelectorAll('.filepath')) {\n",
              "          element.style.display = 'block'\n",
              "          element.onclick = (event) => {\n",
              "            event.preventDefault();\n",
              "            event.stopPropagation();\n",
              "            google.colab.files.view(element.textContent, 80);\n",
              "          };\n",
              "        }\n",
              "      }\n",
              "      for (const element of document.querySelectorAll('.function-repr-contents')) {\n",
              "        element.onclick = (event) => {\n",
              "          event.preventDefault();\n",
              "          event.stopPropagation();\n",
              "          element.classList.toggle('function-repr-contents-collapsed');\n",
              "        };\n",
              "      }\n",
              "      </script>\n",
              "      </div>"
            ]
          },
          "metadata": {},
          "execution_count": 70
        }
      ]
    },
    {
      "cell_type": "code",
      "source": [
        "data.columns"
      ],
      "metadata": {
        "colab": {
          "base_uri": "https://localhost:8080/"
        },
        "id": "QoQ-9d222U4K",
        "outputId": "3652856a-1452-45fe-e0d9-2ae94e4a048b"
      },
      "execution_count": null,
      "outputs": [
        {
          "output_type": "execute_result",
          "data": {
            "text/plain": [
              "['_c0',\n",
              " 'total_bill',\n",
              " 'tip',\n",
              " 'sex',\n",
              " 'smoker',\n",
              " 'day',\n",
              " 'time',\n",
              " 'size',\n",
              " 'indexed_sex',\n",
              " 'indexed_day',\n",
              " 'indexed_time']"
            ]
          },
          "metadata": {},
          "execution_count": 73
        }
      ]
    },
    {
      "cell_type": "code",
      "source": [
        "data.count()"
      ],
      "metadata": {
        "colab": {
          "base_uri": "https://localhost:8080/"
        },
        "id": "iaHgBa1K3TAs",
        "outputId": "912bb9a0-31f3-4e6a-d8f6-9719c764f790"
      },
      "execution_count": null,
      "outputs": [
        {
          "output_type": "execute_result",
          "data": {
            "text/plain": [
              "244"
            ]
          },
          "metadata": {},
          "execution_count": 80
        }
      ]
    },
    {
      "cell_type": "code",
      "source": [
        "data.groupBy(\"smoker\").count().show()"
      ],
      "metadata": {
        "colab": {
          "base_uri": "https://localhost:8080/"
        },
        "id": "AgzwZtOt3qsY",
        "outputId": "072b88cf-9278-4d77-acc4-2e41e27dbae5"
      },
      "execution_count": null,
      "outputs": [
        {
          "output_type": "stream",
          "name": "stdout",
          "text": [
            "+------+-----+\n",
            "|smoker|count|\n",
            "+------+-----+\n",
            "|    No|  151|\n",
            "|   Yes|   93|\n",
            "+------+-----+\n",
            "\n"
          ]
        }
      ]
    },
    {
      "cell_type": "code",
      "source": [],
      "metadata": {
        "id": "v4gg-6TH3_Dj"
      },
      "execution_count": null,
      "outputs": []
    }
  ]
}